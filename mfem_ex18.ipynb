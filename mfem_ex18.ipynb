{
  "nbformat": 4,
  "nbformat_minor": 0,
  "metadata": {
    "colab": {
      "provenance": [],
      "authorship_tag": "ABX9TyPiYeLeLBeoV3KgjyOh8WgR",
      "include_colab_link": true
    },
    "kernelspec": {
      "name": "python3",
      "display_name": "Python 3"
    },
    "language_info": {
      "name": "python"
    }
  },
  "cells": [
    {
      "cell_type": "markdown",
      "metadata": {
        "id": "view-in-github",
        "colab_type": "text"
      },
      "source": [
        "<a href=\"https://colab.research.google.com/github/nmathgithub/QuantML2024/blob/ml_project2024/mfem_ex18.ipynb\" target=\"_parent\"><img src=\"https://colab.research.google.com/assets/colab-badge.svg\" alt=\"Open In Colab\"/></a>"
      ]
    },
    {
      "cell_type": "code",
      "execution_count": null,
      "metadata": {
        "colab": {
          "base_uri": "https://localhost:8080/"
        },
        "collapsed": true,
        "id": "iKyyIoSSIPCJ",
        "outputId": "8a4f7863-2ed1-43ab-ad7f-6b2ce89fa11d"
      },
      "outputs": [
        {
          "output_type": "stream",
          "name": "stdout",
          "text": [
            "Collecting mfem\n",
            "  Downloading mfem-4.7.0.1-cp310-cp310-manylinux_2_17_x86_64.manylinux2014_x86_64.whl.metadata (5.9 kB)\n",
            "Requirement already satisfied: numpy<2.0.0,>=1.20.0 in /usr/local/lib/python3.10/dist-packages (from mfem) (1.26.4)\n",
            "Requirement already satisfied: numba in /usr/local/lib/python3.10/dist-packages (from mfem) (0.60.0)\n",
            "Collecting numba-scipy (from mfem)\n",
            "  Downloading numba_scipy-0.4.0-py3-none-any.whl.metadata (1.6 kB)\n",
            "Requirement already satisfied: scipy in /usr/local/lib/python3.10/dist-packages (from mfem) (1.13.1)\n",
            "Collecting swig>=4.2.1 (from mfem)\n",
            "  Downloading swig-4.2.1-py2.py3-none-manylinux_2_5_x86_64.manylinux1_x86_64.whl.metadata (3.6 kB)\n",
            "Requirement already satisfied: cmake in /usr/local/lib/python3.10/dist-packages (from mfem) (3.30.3)\n",
            "Requirement already satisfied: llvmlite<0.44,>=0.43.0dev0 in /usr/local/lib/python3.10/dist-packages (from numba->mfem) (0.43.0)\n",
            "Collecting scipy (from mfem)\n",
            "  Downloading scipy-1.10.1-cp310-cp310-manylinux_2_17_x86_64.manylinux2014_x86_64.whl.metadata (58 kB)\n",
            "\u001b[2K     \u001b[90m━━━━━━━━━━━━━━━━━━━━━━━━━━━━━━━━━━━━━━━━\u001b[0m \u001b[32m58.9/58.9 kB\u001b[0m \u001b[31m916.2 kB/s\u001b[0m eta \u001b[36m0:00:00\u001b[0m\n",
            "\u001b[?25hDownloading mfem-4.7.0.1-cp310-cp310-manylinux_2_17_x86_64.manylinux2014_x86_64.whl (64.5 MB)\n",
            "\u001b[2K   \u001b[90m━━━━━━━━━━━━━━━━━━━━━━━━━━━━━━━━━━━━━━━━\u001b[0m \u001b[32m64.5/64.5 MB\u001b[0m \u001b[31m7.1 MB/s\u001b[0m eta \u001b[36m0:00:00\u001b[0m\n",
            "\u001b[?25hDownloading swig-4.2.1-py2.py3-none-manylinux_2_5_x86_64.manylinux1_x86_64.whl (1.9 MB)\n",
            "\u001b[2K   \u001b[90m━━━━━━━━━━━━━━━━━━━━━━━━━━━━━━━━━━━━━━━━\u001b[0m \u001b[32m1.9/1.9 MB\u001b[0m \u001b[31m49.1 MB/s\u001b[0m eta \u001b[36m0:00:00\u001b[0m\n",
            "\u001b[?25hDownloading numba_scipy-0.4.0-py3-none-any.whl (9.7 kB)\n",
            "Downloading scipy-1.10.1-cp310-cp310-manylinux_2_17_x86_64.manylinux2014_x86_64.whl (34.4 MB)\n",
            "\u001b[2K   \u001b[90m━━━━━━━━━━━━━━━━━━━━━━━━━━━━━━━━━━━━━━━━\u001b[0m \u001b[32m34.4/34.4 MB\u001b[0m \u001b[31m14.5 MB/s\u001b[0m eta \u001b[36m0:00:00\u001b[0m\n",
            "\u001b[?25hInstalling collected packages: swig, scipy, numba-scipy, mfem\n",
            "  Attempting uninstall: scipy\n",
            "    Found existing installation: scipy 1.13.1\n",
            "    Uninstalling scipy-1.13.1:\n",
            "      Successfully uninstalled scipy-1.13.1\n",
            "Successfully installed mfem-4.7.0.1 numba-scipy-0.4.0 scipy-1.10.1 swig-4.2.1\n"
          ]
        }
      ],
      "source": [
        "pip install mfem"
      ]
    },
    {
      "cell_type": "code",
      "source": [
        "import mfem.ser as mfem"
      ],
      "metadata": {
        "id": "SztjZUd6I-zU"
      },
      "execution_count": null,
      "outputs": []
    },
    {
      "cell_type": "markdown",
      "source": [
        "# Example 18\n",
        "# Nonlinear Hyperbolic Conservation Law\n",
        "# Learn by doing"
      ],
      "metadata": {
        "id": "JvtrAgvUJdGU"
      }
    },
    {
      "cell_type": "code",
      "source": [
        "from mfem.common.arg_parser import ArgParser\n",
        "from mfem.ser import intArray\n",
        "from os.path import expanduser, join, dirname\n",
        "import numpy as np\n",
        "from numpy import sqrt, pi, cos, sin, hypot, arctan2\n",
        "from scipy.special import erfc\n"
      ],
      "metadata": {
        "id": "ZTZsymuMJgZK"
      },
      "execution_count": null,
      "outputs": []
    },
    {
      "cell_type": "code",
      "source": [
        "print(\"Hello World from Google Colab\")"
      ],
      "metadata": {
        "colab": {
          "base_uri": "https://localhost:8080/"
        },
        "id": "1ZuzyjvpKDB8",
        "outputId": "00e39d94-21a9-483e-db3d-61364d13b409"
      },
      "execution_count": 1,
      "outputs": [
        {
          "output_type": "stream",
          "name": "stdout",
          "text": [
            "Hello World from Google Colab\n"
          ]
        }
      ]
    }
  ]
}